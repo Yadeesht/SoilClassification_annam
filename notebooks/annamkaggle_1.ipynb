{
  "nbformat": 4,
  "nbformat_minor": 0,
  "metadata": {
    "colab": {
      "provenance": []
    },
    "kernelspec": {
      "name": "python3",
      "display_name": "Python 3"
    },
    "language_info": {
      "name": "python"
    }
  },
  "cells": [
    {
      "cell_type": "code",
      "execution_count": 1,
      "metadata": {
        "colab": {
          "base_uri": "https://localhost:8080/"
        },
        "id": "N85pzFp9HKye",
        "outputId": "31d70ca7-ca0f-44e5-972d-d44ebc2b5342"
      },
      "outputs": [
        {
          "output_type": "stream",
          "name": "stdout",
          "text": [
            "Mounted at /content/drive\n"
          ]
        }
      ],
      "source": [
        "from google.colab import drive\n",
        "drive.mount('/content/drive')"
      ]
    },
    {
      "cell_type": "markdown",
      "source": [
        "1.Load the libraries"
      ],
      "metadata": {
        "id": "DRyW5wpwwB14"
      }
    },
    {
      "cell_type": "code",
      "source": [
        "from sklearn.ensemble import RandomForestClassifier\n",
        "from sklearn.model_selection import train_test_split\n",
        "from sklearn.metrics import accuracy_score\n",
        "import numpy as np\n",
        "import pandas as pd\n",
        "from PIL import Image\n",
        "import os\n"
      ],
      "metadata": {
        "id": "zQjcKuHjvXXy"
      },
      "execution_count": 2,
      "outputs": []
    },
    {
      "cell_type": "markdown",
      "source": [
        "2.Load the Data files and data processing"
      ],
      "metadata": {
        "id": "OcuHPY0owIdp"
      }
    },
    {
      "cell_type": "code",
      "source": [
        "train_dir = '/content/drive/MyDrive/soil_classification-2025/train'\n",
        "test_dir = '/content/drive/MyDrive/soil_classification-2025/test'\n",
        "train_df = pd.read_csv('/content/drive/MyDrive/soil_classification-2025/train_labels.csv')\n",
        "test_df = pd.read_csv('/content/drive/MyDrive/soil_classification-2025/test_ids.csv')"
      ],
      "metadata": {
        "id": "gSe30nCkvdxm"
      },
      "execution_count": 3,
      "outputs": []
    },
    {
      "cell_type": "code",
      "source": [
        "# This is done to convert the images into the loadable image format to work with the image\n",
        "test_df.loc[test_df.iloc[:, 0] == 'img_f22972ea.webp', test_df.columns[0]] = 'img_f22972ea.jpg'\n",
        "test_df.loc[test_df.iloc[:, 0] == 'img_91cbc6e5.gif', test_df.columns[0]] = 'img_91cbc6e5.png'"
      ],
      "metadata": {
        "id": "P8f02FfMvcIF"
      },
      "execution_count": 4,
      "outputs": []
    },
    {
      "cell_type": "code",
      "source": [
        "# the image is loaded and resized\n",
        "def load_and_resize_image(filepath, target_size=(64, 64)):\n",
        "    try:\n",
        "        img = Image.open(filepath).convert('RGB')\n",
        "        img = img.resize(target_size)\n",
        "        return np.array(img)\n",
        "    except Exception as e:\n",
        "        print(f\"Error loading image {filepath}: {e}\")\n",
        "        return None"
      ],
      "metadata": {
        "id": "NWmqwr9IvhQC"
      },
      "execution_count": 5,
      "outputs": []
    },
    {
      "cell_type": "code",
      "source": [
        "# here the images are converted into array to work with traditional model we have to work with array\n",
        "train_images = []\n",
        "train_labels = []\n",
        "for index, row in train_df.iterrows():\n",
        "    img_path = os.path.join(train_dir, row[train_df.columns[0]])\n",
        "    img = load_and_resize_image(img_path)\n",
        "    if img is not None:\n",
        "        train_images.append(img.flatten())\n",
        "        train_labels.append(row[train_df.columns[1]])\n",
        "\n",
        "train_images = np.array(train_images)\n",
        "train_labels = np.array(train_labels)\n",
        "\n",
        "test_images = []\n",
        "test_image_ids = []\n",
        "\n",
        "if test_df.shape[1] == 1:\n",
        "    test_df['label'] = 'unknown'\n",
        "\n",
        "for index, row in test_df.iterrows():\n",
        "    img_path = os.path.join(test_dir, row[test_df.columns[0]])\n",
        "    img = load_and_resize_image(img_path)\n",
        "    if img is not None:\n",
        "        test_images.append(img.flatten())\n",
        "        test_image_ids.append(row[test_df.columns[0]])\n",
        "\n",
        "test_images = np.array(test_images)\n",
        "# train and valdation split is done here\n",
        "X_train, X_val, y_train, y_val = train_test_split(train_images, train_labels, test_size=0.2, random_state=42)"
      ],
      "metadata": {
        "id": "2Ep7FHzEWk3Q"
      },
      "execution_count": 6,
      "outputs": []
    },
    {
      "cell_type": "markdown",
      "source": [
        "2.Model deployment"
      ],
      "metadata": {
        "id": "v2SA37HZ1Pzn"
      }
    },
    {
      "cell_type": "code",
      "source": [
        "# here i have used 2 models which gave the best results.\n",
        "rf_model = RandomForestClassifier(n_estimators=100, random_state=42)\n",
        "rf_model.fit(X_train, y_train)\n",
        "\n",
        "test_predictions = rf_model.predict(test_images)\n",
        "\n",
        "val_predictions = rf_model.predict(X_val)"
      ],
      "metadata": {
        "id": "KPGuNWYCjKQ1"
      },
      "execution_count": 22,
      "outputs": []
    },
    {
      "cell_type": "code",
      "source": [
        "import json\n",
        "from google.colab import files\n",
        "from sklearn.metrics import precision_score, recall_score, f1_score\n",
        "\n",
        "f1 = f1_score(y_val, val_predictions, average='weighted')\n",
        "\n",
        "precision = precision_score(y_val, val_predictions, average='weighted')\n",
        "\n",
        "recall = recall_score(y_val, val_predictions, average='weighted')\n",
        "\n",
        "metrics_data = {\n",
        "    \"RF_validation_weighted_f1_score\": f1,\n",
        "    \"RF_validation_weighted_precision\": precision,\n",
        "    \"RF_validation_weighted_recall\": recall\n",
        "}\n",
        "\n",
        "filename = 'metrics_RF.json'\n",
        "\n",
        "with open(filename, 'w') as f:\n",
        "    json.dump(metrics_data, f, indent=4)\n",
        "\n",
        "files.download(filename)"
      ],
      "metadata": {
        "colab": {
          "base_uri": "https://localhost:8080/",
          "height": 17
        },
        "id": "EV9U8SA12Ijx",
        "outputId": "d8dd3cc6-4bae-4cf0-9c33-08572691dc3a"
      },
      "execution_count": 24,
      "outputs": [
        {
          "output_type": "display_data",
          "data": {
            "text/plain": [
              "<IPython.core.display.Javascript object>"
            ],
            "application/javascript": [
              "\n",
              "    async function download(id, filename, size) {\n",
              "      if (!google.colab.kernel.accessAllowed) {\n",
              "        return;\n",
              "      }\n",
              "      const div = document.createElement('div');\n",
              "      const label = document.createElement('label');\n",
              "      label.textContent = `Downloading \"${filename}\": `;\n",
              "      div.appendChild(label);\n",
              "      const progress = document.createElement('progress');\n",
              "      progress.max = size;\n",
              "      div.appendChild(progress);\n",
              "      document.body.appendChild(div);\n",
              "\n",
              "      const buffers = [];\n",
              "      let downloaded = 0;\n",
              "\n",
              "      const channel = await google.colab.kernel.comms.open(id);\n",
              "      // Send a message to notify the kernel that we're ready.\n",
              "      channel.send({})\n",
              "\n",
              "      for await (const message of channel.messages) {\n",
              "        // Send a message to notify the kernel that we're ready.\n",
              "        channel.send({})\n",
              "        if (message.buffers) {\n",
              "          for (const buffer of message.buffers) {\n",
              "            buffers.push(buffer);\n",
              "            downloaded += buffer.byteLength;\n",
              "            progress.value = downloaded;\n",
              "          }\n",
              "        }\n",
              "      }\n",
              "      const blob = new Blob(buffers, {type: 'application/binary'});\n",
              "      const a = document.createElement('a');\n",
              "      a.href = window.URL.createObjectURL(blob);\n",
              "      a.download = filename;\n",
              "      div.appendChild(a);\n",
              "      a.click();\n",
              "      div.remove();\n",
              "    }\n",
              "  "
            ]
          },
          "metadata": {}
        },
        {
          "output_type": "display_data",
          "data": {
            "text/plain": [
              "<IPython.core.display.Javascript object>"
            ],
            "application/javascript": [
              "download(\"download_d1949846-8cb6-47ad-b776-fe8eeec840d2\", \"metrics_RF.json\", 177)"
            ]
          },
          "metadata": {}
        }
      ]
    },
    {
      "cell_type": "code",
      "source": [
        "import xgboost as xgb\n",
        "from sklearn.preprocessing import LabelEncoder\n",
        "\n",
        "label_encoder = LabelEncoder()\n",
        "\n",
        "y_train_encoded = label_encoder.fit_transform(y_train)\n",
        "\n",
        "y_val_encoded = label_encoder.transform(y_val)\n",
        "\n",
        "dtrain = xgb.DMatrix(X_train, label=y_train_encoded)\n",
        "dval = xgb.DMatrix(X_val, label=y_val_encoded)\n",
        "dtest = xgb.DMatrix(test_images)\n",
        "\n",
        "params = {\n",
        "        'objective': 'multi:softmax',\n",
        "        'num_class': len(label_encoder.classes_),\n",
        "        'eval_metric': 'merror',\n",
        "        'eta': 0.1,\n",
        "        'max_depth': 6,\n",
        "        'subsample': 0.8,\n",
        "        'colsample_bytree': 0.8,\n",
        "        'seed': 42\n",
        "    }\n",
        "\n",
        "\n",
        "model3 = xgb.train(params, dtrain, num_boost_round=30, evals=[(dval, 'eval')])"
      ],
      "metadata": {
        "colab": {
          "base_uri": "https://localhost:8080/"
        },
        "id": "i4cGelsak6Gd",
        "outputId": "1b1aded6-4bb9-47bd-ef00-b7e084eb7ab9"
      },
      "execution_count": 10,
      "outputs": [
        {
          "output_type": "stream",
          "name": "stdout",
          "text": [
            "[0]\teval-merror:0.17959\n",
            "[1]\teval-merror:0.11837\n",
            "[2]\teval-merror:0.10612\n",
            "[3]\teval-merror:0.09796\n",
            "[4]\teval-merror:0.10612\n",
            "[5]\teval-merror:0.10204\n",
            "[6]\teval-merror:0.08571\n",
            "[7]\teval-merror:0.08980\n",
            "[8]\teval-merror:0.08571\n",
            "[9]\teval-merror:0.07755\n",
            "[10]\teval-merror:0.07755\n",
            "[11]\teval-merror:0.07755\n",
            "[12]\teval-merror:0.06122\n",
            "[13]\teval-merror:0.06531\n",
            "[14]\teval-merror:0.06122\n",
            "[15]\teval-merror:0.06122\n",
            "[16]\teval-merror:0.06122\n",
            "[17]\teval-merror:0.06531\n",
            "[18]\teval-merror:0.06939\n",
            "[19]\teval-merror:0.06122\n",
            "[20]\teval-merror:0.06122\n",
            "[21]\teval-merror:0.05714\n",
            "[22]\teval-merror:0.06122\n",
            "[23]\teval-merror:0.06122\n",
            "[24]\teval-merror:0.06122\n",
            "[25]\teval-merror:0.06122\n",
            "[26]\teval-merror:0.05714\n",
            "[27]\teval-merror:0.05714\n",
            "[28]\teval-merror:0.05714\n",
            "[29]\teval-merror:0.05306\n"
          ]
        }
      ]
    },
    {
      "cell_type": "code",
      "source": [
        "test_predictions_encoded = model3.predict(dtest)\n",
        "test_predictions_original = label_encoder.inverse_transform(test_predictions_encoded.astype(int))"
      ],
      "metadata": {
        "id": "WIQKdHj_mpmW"
      },
      "execution_count": 11,
      "outputs": []
    },
    {
      "cell_type": "code",
      "source": [
        "# The predicted outputs\n",
        "test_predictions_original"
      ],
      "metadata": {
        "colab": {
          "base_uri": "https://localhost:8080/"
        },
        "id": "X6mmFfEflM3k",
        "outputId": "34536bef-c557-44d2-a319-34edff6fea50"
      },
      "execution_count": 12,
      "outputs": [
        {
          "output_type": "execute_result",
          "data": {
            "text/plain": [
              "array(['Alluvial soil', 'Alluvial soil', 'Alluvial soil', 'Alluvial soil',\n",
              "       'Alluvial soil', 'Alluvial soil', 'Alluvial soil', 'Alluvial soil',\n",
              "       'Alluvial soil', 'Alluvial soil', 'Alluvial soil', 'Alluvial soil',\n",
              "       'Clay soil', 'Alluvial soil', 'Alluvial soil', 'Alluvial soil',\n",
              "       'Alluvial soil', 'Alluvial soil', 'Alluvial soil', 'Alluvial soil',\n",
              "       'Alluvial soil', 'Alluvial soil', 'Alluvial soil', 'Alluvial soil',\n",
              "       'Alluvial soil', 'Alluvial soil', 'Alluvial soil', 'Alluvial soil',\n",
              "       'Alluvial soil', 'Alluvial soil', 'Alluvial soil', 'Alluvial soil',\n",
              "       'Alluvial soil', 'Black Soil', 'Alluvial soil', 'Alluvial soil',\n",
              "       'Alluvial soil', 'Alluvial soil', 'Alluvial soil', 'Alluvial soil',\n",
              "       'Alluvial soil', 'Alluvial soil', 'Alluvial soil', 'Alluvial soil',\n",
              "       'Alluvial soil', 'Alluvial soil', 'Alluvial soil', 'Alluvial soil',\n",
              "       'Alluvial soil', 'Alluvial soil', 'Alluvial soil', 'Alluvial soil',\n",
              "       'Alluvial soil', 'Alluvial soil', 'Clay soil', 'Alluvial soil',\n",
              "       'Clay soil', 'Clay soil', 'Clay soil', 'Clay soil', 'Clay soil',\n",
              "       'Clay soil', 'Clay soil', 'Clay soil', 'Clay soil', 'Clay soil',\n",
              "       'Clay soil', 'Clay soil', 'Clay soil', 'Clay soil', 'Clay soil',\n",
              "       'Clay soil', 'Clay soil', 'Clay soil', 'Clay soil', 'Clay soil',\n",
              "       'Clay soil', 'Clay soil', 'Clay soil', 'Clay soil', 'Clay soil',\n",
              "       'Clay soil', 'Clay soil', 'Clay soil', 'Clay soil',\n",
              "       'Alluvial soil', 'Clay soil', 'Clay soil', 'Clay soil',\n",
              "       'Clay soil', 'Clay soil', 'Clay soil', 'Clay soil', 'Clay soil',\n",
              "       'Clay soil', 'Clay soil', 'Clay soil', 'Clay soil', 'Clay soil',\n",
              "       'Alluvial soil', 'Clay soil', 'Clay soil', 'Clay soil',\n",
              "       'Clay soil', 'Clay soil', 'Clay soil', 'Clay soil', 'Clay soil',\n",
              "       'Clay soil', 'Clay soil', 'Clay soil', 'Clay soil',\n",
              "       'Alluvial soil', 'Clay soil', 'Clay soil', 'Clay soil',\n",
              "       'Clay soil', 'Clay soil', 'Clay soil', 'Red soil', 'Red soil',\n",
              "       'Red soil', 'Red soil', 'Red soil', 'Red soil', 'Red soil',\n",
              "       'Red soil', 'Red soil', 'Red soil', 'Red soil', 'Red soil',\n",
              "       'Red soil', 'Red soil', 'Red soil', 'Red soil', 'Red soil',\n",
              "       'Red soil', 'Red soil', 'Red soil', 'Red soil', 'Red soil',\n",
              "       'Red soil', 'Red soil', 'Red soil', 'Red soil', 'Red soil',\n",
              "       'Red soil', 'Red soil', 'Red soil', 'Red soil', 'Red soil',\n",
              "       'Red soil', 'Red soil', 'Red soil', 'Red soil', 'Red soil',\n",
              "       'Red soil', 'Red soil', 'Red soil', 'Red soil', 'Red soil',\n",
              "       'Red soil', 'Red soil', 'Red soil', 'Red soil', 'Red soil',\n",
              "       'Red soil', 'Red soil', 'Red soil', 'Red soil', 'Red soil',\n",
              "       'Alluvial soil', 'Red soil', 'Red soil', 'Red soil', 'Red soil',\n",
              "       'Red soil', 'Red soil', 'Red soil', 'Red soil', 'Red soil',\n",
              "       'Red soil', 'Red soil', 'Red soil', 'Red soil', 'Red soil',\n",
              "       'Red soil', 'Red soil', 'Red soil', 'Red soil', 'Red soil',\n",
              "       'Red soil', 'Red soil', 'Red soil', 'Red soil', 'Red soil',\n",
              "       'Red soil', 'Red soil', 'Red soil', 'Red soil', 'Red soil',\n",
              "       'Red soil', 'Red soil', 'Red soil', 'Red soil', 'Red soil',\n",
              "       'Red soil', 'Red soil', 'Clay soil', 'Red soil', 'Red soil',\n",
              "       'Red soil', 'Red soil', 'Red soil', 'Red soil', 'Red soil',\n",
              "       'Red soil', 'Red soil', 'Red soil', 'Red soil', 'Red soil',\n",
              "       'Red soil', 'Red soil', 'Red soil', 'Red soil', 'Black Soil',\n",
              "       'Black Soil', 'Black Soil', 'Black Soil', 'Black Soil',\n",
              "       'Black Soil', 'Black Soil', 'Black Soil', 'Black Soil',\n",
              "       'Black Soil', 'Black Soil', 'Black Soil', 'Black Soil',\n",
              "       'Black Soil', 'Black Soil', 'Black Soil', 'Black Soil',\n",
              "       'Black Soil', 'Black Soil', 'Black Soil', 'Alluvial soil',\n",
              "       'Black Soil', 'Black Soil', 'Black Soil', 'Black Soil',\n",
              "       'Black Soil', 'Black Soil', 'Black Soil', 'Black Soil',\n",
              "       'Black Soil', 'Black Soil', 'Black Soil', 'Black Soil',\n",
              "       'Black Soil', 'Black Soil', 'Black Soil', 'Black Soil',\n",
              "       'Black Soil', 'Black Soil', 'Black Soil', 'Black Soil',\n",
              "       'Black Soil', 'Black Soil', 'Black Soil', 'Black Soil',\n",
              "       'Black Soil', 'Black Soil', 'Black Soil', 'Black Soil',\n",
              "       'Black Soil', 'Black Soil', 'Black Soil', 'Black Soil',\n",
              "       'Black Soil', 'Black Soil', 'Black Soil', 'Black Soil',\n",
              "       'Black Soil', 'Black Soil', 'Black Soil', 'Black Soil',\n",
              "       'Black Soil', 'Black Soil', 'Black Soil', 'Black Soil',\n",
              "       'Black Soil', 'Black Soil', 'Black Soil', 'Black Soil',\n",
              "       'Black Soil', 'Black Soil', 'Black Soil', 'Black Soil',\n",
              "       'Black Soil', 'Black Soil', 'Black Soil', 'Black Soil',\n",
              "       'Black Soil', 'Black Soil', 'Black Soil', 'Black Soil',\n",
              "       'Black Soil', 'Black Soil', 'Black Soil', 'Black Soil',\n",
              "       'Black Soil', 'Black Soil', 'Black Soil', 'Black Soil',\n",
              "       'Black Soil', 'Black Soil', 'Black Soil', 'Black Soil',\n",
              "       'Black Soil', 'Black Soil', 'Black Soil', 'Black Soil',\n",
              "       'Black Soil', 'Black Soil', 'Black Soil', 'Black Soil',\n",
              "       'Black Soil', 'Black Soil', 'Black Soil', 'Black Soil',\n",
              "       'Black Soil', 'Black Soil', 'Black Soil', 'Black Soil',\n",
              "       'Black Soil', 'Black Soil', 'Black Soil', 'Black Soil',\n",
              "       'Black Soil', 'Black Soil', 'Black Soil'], dtype='<U13')"
            ]
          },
          "metadata": {},
          "execution_count": 12
        }
      ]
    },
    {
      "cell_type": "code",
      "source": [
        "# evaluation\n",
        "val_predictions_encoded = model3.predict(dval)\n",
        "\n",
        "val_predictions_original = label_encoder.inverse_transform(val_predictions_encoded.astype(int))\n",
        "\n",
        "from sklearn.metrics import f1_score\n",
        "f1 = f1_score(y_val, val_predictions_original, average='weighted')\n",
        "print(f\"XGBoost Validation F1 Score (weighted): {f1}\")"
      ],
      "metadata": {
        "colab": {
          "base_uri": "https://localhost:8080/"
        },
        "id": "-J24gI9cl0S1",
        "outputId": "f027a731-046a-4ec6-b3ab-0c23ecb9f8e5"
      },
      "execution_count": 13,
      "outputs": [
        {
          "output_type": "stream",
          "name": "stdout",
          "text": [
            "XGBoost Validation F1 Score (weighted): 0.9463850089269877\n"
          ]
        }
      ]
    },
    {
      "cell_type": "code",
      "source": [
        "import json\n",
        "from google.colab import files\n",
        "from sklearn.metrics import precision_score, recall_score, f1_score\n",
        "\n",
        "f1 = f1_score(y_val, val_predictions_original, average='weighted')\n",
        "\n",
        "precision = precision_score(y_val, val_predictions_original, average='weighted')\n",
        "\n",
        "recall = recall_score(y_val, val_predictions_original, average='weighted')\n",
        "\n",
        "metrics_data = {\n",
        "    \"xgboost_validation_weighted_f1_score\": f1,\n",
        "    \"xgboost_validation_weighted_precision\": precision,\n",
        "    \"xgboost_validation_weighted_recall\": recall\n",
        "}\n",
        "\n",
        "filename = 'metrics_XG.json'\n",
        "\n",
        "with open(filename, 'w') as f:\n",
        "    json.dump(metrics_data, f, indent=4)\n",
        "\n",
        "files.download(filename)"
      ],
      "metadata": {
        "colab": {
          "base_uri": "https://localhost:8080/",
          "height": 17
        },
        "id": "LEExjRsM2crz",
        "outputId": "a988b4e4-a648-4b7f-a68d-d8afe14a9b69"
      },
      "execution_count": 25,
      "outputs": [
        {
          "output_type": "display_data",
          "data": {
            "text/plain": [
              "<IPython.core.display.Javascript object>"
            ],
            "application/javascript": [
              "\n",
              "    async function download(id, filename, size) {\n",
              "      if (!google.colab.kernel.accessAllowed) {\n",
              "        return;\n",
              "      }\n",
              "      const div = document.createElement('div');\n",
              "      const label = document.createElement('label');\n",
              "      label.textContent = `Downloading \"${filename}\": `;\n",
              "      div.appendChild(label);\n",
              "      const progress = document.createElement('progress');\n",
              "      progress.max = size;\n",
              "      div.appendChild(progress);\n",
              "      document.body.appendChild(div);\n",
              "\n",
              "      const buffers = [];\n",
              "      let downloaded = 0;\n",
              "\n",
              "      const channel = await google.colab.kernel.comms.open(id);\n",
              "      // Send a message to notify the kernel that we're ready.\n",
              "      channel.send({})\n",
              "\n",
              "      for await (const message of channel.messages) {\n",
              "        // Send a message to notify the kernel that we're ready.\n",
              "        channel.send({})\n",
              "        if (message.buffers) {\n",
              "          for (const buffer of message.buffers) {\n",
              "            buffers.push(buffer);\n",
              "            downloaded += buffer.byteLength;\n",
              "            progress.value = downloaded;\n",
              "          }\n",
              "        }\n",
              "      }\n",
              "      const blob = new Blob(buffers, {type: 'application/binary'});\n",
              "      const a = document.createElement('a');\n",
              "      a.href = window.URL.createObjectURL(blob);\n",
              "      a.download = filename;\n",
              "      div.appendChild(a);\n",
              "      a.click();\n",
              "      div.remove();\n",
              "    }\n",
              "  "
            ]
          },
          "metadata": {}
        },
        {
          "output_type": "display_data",
          "data": {
            "text/plain": [
              "<IPython.core.display.Javascript object>"
            ],
            "application/javascript": [
              "download(\"download_e959b437-684d-44c9-a7ad-7de8cceeb8e3\", \"metrics_XG.json\", 193)"
            ]
          },
          "metadata": {}
        }
      ]
    },
    {
      "cell_type": "markdown",
      "source": [
        "Save the model"
      ],
      "metadata": {
        "id": "1QDrhhSdzRPd"
      }
    },
    {
      "cell_type": "code",
      "source": [
        "submission_df = pd.DataFrame({'image_id': test_image_ids, 'soil_type': test_predictions})\n",
        "\n",
        "submission_df.to_csv('/content/rf_predictions.csv', index=False)"
      ],
      "metadata": {
        "id": "SFr_C_2yaMbR"
      },
      "execution_count": 27,
      "outputs": []
    },
    {
      "cell_type": "code",
      "source": [],
      "metadata": {
        "id": "cskOM24e07Yc"
      },
      "execution_count": null,
      "outputs": []
    }
  ]
}